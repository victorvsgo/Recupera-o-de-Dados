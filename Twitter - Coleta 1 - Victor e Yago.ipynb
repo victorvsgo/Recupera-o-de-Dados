{
 "cells": [
  {
   "cell_type": "code",
   "execution_count": 107,
   "metadata": {},
   "outputs": [],
   "source": [
    "#Victor Silva de Oliveira\n",
    "#Yago Barros Barbosa\n",
    "\n",
    "from tweepy import OAuthHandler\n",
    "from tweepy import Stream\n",
    "from tweepy.streaming import StreamListener\n",
    "import time\n",
    "\n",
    "import requests\n"
   ]
  },
  {
   "cell_type": "code",
   "execution_count": 70,
   "metadata": {},
   "outputs": [],
   "source": [
    "# setup security \n",
    "access_token = ''\n",
    "access_token_secret = ''\n",
    "consumer_key = ''\n",
    "consumer_secret = ''\n",
    "\n",
    "# setup file store\n",
    "file = 'C:/Users/Wed-Gaby/Desktop/Pós Graduação/Recuperação de dados da Web/1 - Twitter - Futebol/tweets-sample-1.json'"
   ]
  },
  {
   "cell_type": "code",
   "execution_count": 71,
   "metadata": {},
   "outputs": [],
   "source": [
    "class MyListener(StreamListener):\n",
    "        \n",
    "    \n",
    "    def __init__(self, file):\n",
    "        global the_file\n",
    "        self.the_file = open(file, 'w')\n",
    "        \n",
    "    def on_data(self, data):\n",
    "        self.the_file.write(data)\n",
    "        return True\n",
    "    \n",
    "    def on_error(self, status):\n",
    "        print(status)\n",
    "        \n",
    "    def file_close(self):\n",
    "        self.the_file.close()        "
   ]
  },
  {
   "cell_type": "code",
   "execution_count": 95,
   "metadata": {},
   "outputs": [
    {
     "name": "stdout",
     "output_type": "stream",
     "text": [
      "**Finish**\n"
     ]
    }
   ],
   "source": [
    "listener = MyListener(file)\n",
    "oauth = OAuthHandler(consumer_key, consumer_secret)\n",
    "oauth.set_access_token(access_token, access_token_secret)\n",
    "\n",
    "max_time = 15 # in seconds\n",
    "start_time = time.time() \n",
    "\n",
    "## collecting...\n",
    "stream = Stream(oauth, listener)\n",
    "#stream.filter(track=['copa', 'neymar', 'messi'],async=True,languages=['pt'])\n",
    "stream.filter(track=['neymar', 'lukaku', 'messi', 'modric', 'mbappe','pogba','rakitic','cr7','hazard', 'kante', 'kane'],async=True)\n",
    "\n",
    "elapsed_time = (time.time() - start_time)\n",
    "while  elapsed_time < max_time:\n",
    "    elapsed_time = (time.time() - start_time)\n",
    "\n",
    "    \n",
    "print('**Finish**')\n",
    "stream.disconnect()\n",
    "listener.file_close()"
   ]
  },
  {
   "cell_type": "code",
   "execution_count": 60,
   "metadata": {},
   "outputs": [],
   "source": [
    "import json\n",
    "import pandas as pd\n",
    "import matplotlib.pyplot as plt"
   ]
  },
  {
   "cell_type": "code",
   "execution_count": 96,
   "metadata": {},
   "outputs": [],
   "source": [
    "tweets_data = []\n",
    "tweets_file = open(file, \"r\")\n",
    "for line in tweets_file:\n",
    "    try:\n",
    "        tweet = json.loads(line)\n",
    "        tweets_data.append(tweet)\n",
    "    except:\n",
    "        continue\n",
    "        "
   ]
  },
  {
   "cell_type": "code",
   "execution_count": 97,
   "metadata": {},
   "outputs": [
    {
     "name": "stdout",
     "output_type": "stream",
     "text": [
      "  lang                                               text country\n",
      "0   fr  RT @Footballogue: [#CM2018] Mbappe🇫🇷: « Descha...    None\n",
      "1   pt  RT @planetadabolabr: O Real Madrid emitiu uma ...    None\n",
      "2   en  @RobWoodfin1 Agree with that. But for £57m I’d...    None\n",
      "3   en  RT @Matt_Law_DT: I’ve just asked someone who w...    None\n",
      "4   pt  RT @claudioedantas: Neymar é humano, já os bot...    None\n",
      "5   en  RT @Pigmatron_: @Faitelson_ESPN @gary1838 VAR ...    None\n",
      "6   en  @chelsea_realist Imagine the freedom hazard wi...    None\n",
      "7   en  RT @Ultra_Suristic: HOLY SH*T! A filmmaker who...    None\n",
      "8   es  RT @piquefilia: \"No hay debate\"...dos Caras pi...    None\n",
      "9   es  RT @Manu_Sainz: Me parece lamentable q Barça y...    None\n"
     ]
    }
   ],
   "source": [
    "tweets = pd.DataFrame()\n",
    "\n",
    "tweets['lang'] = ''\n",
    "tweets['text'] = ''\n",
    "tweets['country'] = ''\n",
    "for tweet in tweets_data:\n",
    "    if 'lang' in tweet:\n",
    "        tweets.loc[len(tweets)] = [tweet['lang'],\n",
    "                               tweet['text'],\n",
    "                               tweet['place']['country'] if tweet['place'] != None else None]\n",
    "    \n",
    "print(tweets.head(10))"
   ]
  },
  {
   "cell_type": "code",
   "execution_count": 98,
   "metadata": {},
   "outputs": [
    {
     "data": {
      "text/plain": [
       "<matplotlib.axes._subplots.AxesSubplot at 0x2280cf32710>"
      ]
     },
     "execution_count": 98,
     "metadata": {},
     "output_type": "execute_result"
    },
    {
     "data": {
      "image/png": "[encoded data removed]",
      "text/plain": [
       "<Figure size 432x288 with 1 Axes>"
      ]
     },
     "metadata": {},
     "output_type": "display_data"
    }
   ],
   "source": [
    "tweets_by_lang = tweets['lang'].value_counts()\n",
    "\n",
    "fig, ax = plt.subplots()\n",
    "ax.tick_params(axis='x', labelsize=15)\n",
    "ax.tick_params(axis='y', labelsize=10)\n",
    "ax.set_xlabel('Languages', fontsize=15)\n",
    "ax.set_ylabel('Number of tweets' , fontsize=15)\n",
    "ax.set_title('Top 5 languages', fontsize=15, fontweight='bold')\n",
    "tweets_by_lang[:5].plot(ax=ax, kind='bar', color='red')"
   ]
  },
  {
   "cell_type": "code",
   "execution_count": 99,
   "metadata": {},
   "outputs": [
    {
     "data": {
      "text/plain": [
       "<matplotlib.axes._subplots.AxesSubplot at 0x2280cf7e978>"
      ]
     },
     "execution_count": 99,
     "metadata": {},
     "output_type": "execute_result"
    },
    {
     "data": {
      "image/png": "[encoded data removed]",
      "text/plain": [
       "<Figure size 432x288 with 1 Axes>"
      ]
     },
     "metadata": {},
     "output_type": "display_data"
    }
   ],
   "source": [
    "tweets_by_country = tweets['country'].value_counts()\n",
    "\n",
    "fig, ax = plt.subplots()\n",
    "ax.tick_params(axis='x', labelsize=15)\n",
    "ax.tick_params(axis='y', labelsize=10)\n",
    "ax.set_xlabel('Countries', fontsize=15)\n",
    "ax.set_ylabel('Number of tweets' , fontsize=15)\n",
    "ax.set_title('Top 5 countries', fontsize=15, fontweight='bold')\n",
    "tweets_by_country[:5].plot(ax=ax, kind='bar', color='blue')"
   ]
  },
  {
   "cell_type": "code",
   "execution_count": 100,
   "metadata": {},
   "outputs": [],
   "source": [
    "import re\n",
    "def word_in_text(word, text):\n",
    "    word = word.lower()\n",
    "    text = text.lower()\n",
    "    match = re.search(word, text)\n",
    "    if match:\n",
    "        return True\n",
    "    return False"
   ]
  },
  {
   "cell_type": "code",
   "execution_count": 101,
   "metadata": {},
   "outputs": [
    {
     "data": {
      "text/html": [
       "<div>\n",
       "<style scoped>\n",
       "    .dataframe tbody tr th:only-of-type {\n",
       "        vertical-align: middle;\n",
       "    }\n",
       "\n",
       "    .dataframe tbody tr th {\n",
       "        vertical-align: top;\n",
       "    }\n",
       "\n",
       "    .dataframe thead th {\n",
       "        text-align: right;\n",
       "    }\n",
       "</style>\n",
       "<table border=\"1\" class=\"dataframe\">\n",
       "  <thead>\n",
       "    <tr style=\"text-align: right;\">\n",
       "      <th></th>\n",
       "      <th>lang</th>\n",
       "      <th>text</th>\n",
       "      <th>country</th>\n",
       "      <th>player</th>\n",
       "    </tr>\n",
       "  </thead>\n",
       "  <tbody>\n",
       "    <tr>\n",
       "      <th>0</th>\n",
       "      <td>fr</td>\n",
       "      <td>RT @Footballogue: [#CM2018] Mbappe🇫🇷: « Descha...</td>\n",
       "      <td>None</td>\n",
       "      <td>mbappe</td>\n",
       "    </tr>\n",
       "    <tr>\n",
       "      <th>1</th>\n",
       "      <td>pt</td>\n",
       "      <td>RT @planetadabolabr: O Real Madrid emitiu uma ...</td>\n",
       "      <td>None</td>\n",
       "      <td>neymar</td>\n",
       "    </tr>\n",
       "    <tr>\n",
       "      <th>2</th>\n",
       "      <td>en</td>\n",
       "      <td>@RobWoodfin1 Agree with that. But for £57m I’d...</td>\n",
       "      <td>None</td>\n",
       "      <td>kante</td>\n",
       "    </tr>\n",
       "    <tr>\n",
       "      <th>3</th>\n",
       "      <td>en</td>\n",
       "      <td>RT @Matt_Law_DT: I’ve just asked someone who w...</td>\n",
       "      <td>None</td>\n",
       "      <td>None</td>\n",
       "    </tr>\n",
       "    <tr>\n",
       "      <th>4</th>\n",
       "      <td>pt</td>\n",
       "      <td>RT @claudioedantas: Neymar é humano, já os bot...</td>\n",
       "      <td>None</td>\n",
       "      <td>neymar</td>\n",
       "    </tr>\n",
       "    <tr>\n",
       "      <th>5</th>\n",
       "      <td>en</td>\n",
       "      <td>RT @Pigmatron_: @Faitelson_ESPN @gary1838 VAR ...</td>\n",
       "      <td>None</td>\n",
       "      <td>neymar</td>\n",
       "    </tr>\n",
       "    <tr>\n",
       "      <th>6</th>\n",
       "      <td>en</td>\n",
       "      <td>@chelsea_realist Imagine the freedom hazard wi...</td>\n",
       "      <td>None</td>\n",
       "      <td>hazard</td>\n",
       "    </tr>\n",
       "    <tr>\n",
       "      <th>7</th>\n",
       "      <td>en</td>\n",
       "      <td>RT @Ultra_Suristic: HOLY SH*T! A filmmaker who...</td>\n",
       "      <td>None</td>\n",
       "      <td>modric</td>\n",
       "    </tr>\n",
       "    <tr>\n",
       "      <th>8</th>\n",
       "      <td>es</td>\n",
       "      <td>RT @piquefilia: \"No hay debate\"...dos Caras pi...</td>\n",
       "      <td>None</td>\n",
       "      <td>None</td>\n",
       "    </tr>\n",
       "    <tr>\n",
       "      <th>9</th>\n",
       "      <td>es</td>\n",
       "      <td>RT @Manu_Sainz: Me parece lamentable q Barça y...</td>\n",
       "      <td>None</td>\n",
       "      <td>neymar</td>\n",
       "    </tr>\n",
       "    <tr>\n",
       "      <th>10</th>\n",
       "      <td>fr</td>\n",
       "      <td>RT @QBINZE: Trop mignooooon (trop hâte de le v...</td>\n",
       "      <td>None</td>\n",
       "      <td>mbappe</td>\n",
       "    </tr>\n",
       "    <tr>\n",
       "      <th>11</th>\n",
       "      <td>es</td>\n",
       "      <td>RT @luismora_22: No lo entiendo. Estuvieron 10...</td>\n",
       "      <td>None</td>\n",
       "      <td>None</td>\n",
       "    </tr>\n",
       "    <tr>\n",
       "      <th>12</th>\n",
       "      <td>es</td>\n",
       "      <td>RT @elchiringuitotv: \"El Nápoles prepara LA PA...</td>\n",
       "      <td>None</td>\n",
       "      <td>messi</td>\n",
       "    </tr>\n",
       "    <tr>\n",
       "      <th>13</th>\n",
       "      <td>en</td>\n",
       "      <td>RT @HLTCO: Everyone (including me) automatical...</td>\n",
       "      <td>None</td>\n",
       "      <td>kane</td>\n",
       "    </tr>\n",
       "    <tr>\n",
       "      <th>14</th>\n",
       "      <td>es</td>\n",
       "      <td>Alison \\nCaballero\\nTie \\n\\nAzpilicueta\\nRudig...</td>\n",
       "      <td>None</td>\n",
       "      <td>kante</td>\n",
       "    </tr>\n",
       "    <tr>\n",
       "      <th>15</th>\n",
       "      <td>es</td>\n",
       "      <td>Si el Madrid quiere anotar goles, que fichen a...</td>\n",
       "      <td>None</td>\n",
       "      <td>kane</td>\n",
       "    </tr>\n",
       "    <tr>\n",
       "      <th>16</th>\n",
       "      <td>es</td>\n",
       "      <td>RT @madridisme: Benzema el tapado eh, menos go...</td>\n",
       "      <td>None</td>\n",
       "      <td>kane</td>\n",
       "    </tr>\n",
       "    <tr>\n",
       "      <th>17</th>\n",
       "      <td>es</td>\n",
       "      <td>RT @Manu_Sainz: Me parece lamentable q Barça y...</td>\n",
       "      <td>None</td>\n",
       "      <td>neymar</td>\n",
       "    </tr>\n",
       "    <tr>\n",
       "      <th>18</th>\n",
       "      <td>en</td>\n",
       "      <td>RT @EPLBible: Dida played for Brazil at the 19...</td>\n",
       "      <td>None</td>\n",
       "      <td>mbappe</td>\n",
       "    </tr>\n",
       "    <tr>\n",
       "      <th>19</th>\n",
       "      <td>es</td>\n",
       "      <td>RT @Manu_Sainz: Me parece lamentable q Barça y...</td>\n",
       "      <td>None</td>\n",
       "      <td>neymar</td>\n",
       "    </tr>\n",
       "  </tbody>\n",
       "</table>\n",
       "</div>"
      ],
      "text/plain": [
       "   lang                                               text country  player\n",
       "0    fr  RT @Footballogue: [#CM2018] Mbappe🇫🇷: « Descha...    None  mbappe\n",
       "1    pt  RT @planetadabolabr: O Real Madrid emitiu uma ...    None  neymar\n",
       "2    en  @RobWoodfin1 Agree with that. But for £57m I’d...    None   kante\n",
       "3    en  RT @Matt_Law_DT: I’ve just asked someone who w...    None    None\n",
       "4    pt  RT @claudioedantas: Neymar é humano, já os bot...    None  neymar\n",
       "5    en  RT @Pigmatron_: @Faitelson_ESPN @gary1838 VAR ...    None  neymar\n",
       "6    en  @chelsea_realist Imagine the freedom hazard wi...    None  hazard\n",
       "7    en  RT @Ultra_Suristic: HOLY SH*T! A filmmaker who...    None  modric\n",
       "8    es  RT @piquefilia: \"No hay debate\"...dos Caras pi...    None    None\n",
       "9    es  RT @Manu_Sainz: Me parece lamentable q Barça y...    None  neymar\n",
       "10   fr  RT @QBINZE: Trop mignooooon (trop hâte de le v...    None  mbappe\n",
       "11   es  RT @luismora_22: No lo entiendo. Estuvieron 10...    None    None\n",
       "12   es  RT @elchiringuitotv: \"El Nápoles prepara LA PA...    None   messi\n",
       "13   en  RT @HLTCO: Everyone (including me) automatical...    None    kane\n",
       "14   es  Alison \\nCaballero\\nTie \\n\\nAzpilicueta\\nRudig...    None   kante\n",
       "15   es  Si el Madrid quiere anotar goles, que fichen a...    None    kane\n",
       "16   es  RT @madridisme: Benzema el tapado eh, menos go...    None    kane\n",
       "17   es  RT @Manu_Sainz: Me parece lamentable q Barça y...    None  neymar\n",
       "18   en  RT @EPLBible: Dida played for Brazil at the 19...    None  mbappe\n",
       "19   es  RT @Manu_Sainz: Me parece lamentable q Barça y...    None  neymar"
      ]
     },
     "execution_count": 101,
     "metadata": {},
     "output_type": "execute_result"
    }
   ],
   "source": [
    "## filtrando aqueles q mais foram falados (termos mais influentes)\n",
    "players = []\n",
    "for tweet in tweets_data:\n",
    "    if 'text' in tweet:\n",
    "        if word_in_text('neymar', tweet['text']):\n",
    "            players.append('neymar')\n",
    "        elif word_in_text('messi', tweet['text']):\n",
    "            players.append('messi')\n",
    "        elif word_in_text('lukaku', tweet['text']):\n",
    "            players.append('lukaku')\n",
    "        elif word_in_text('modric', tweet['text']):\n",
    "            players.append('modric')\n",
    "        elif word_in_text('hazard', tweet['text']):\n",
    "            players.append('hazard')\n",
    "        elif word_in_text('mbappe', tweet['text']):\n",
    "            players.append('mbappe')\n",
    "        elif word_in_text('cr7', tweet['text']):\n",
    "            players.append('cr7')\n",
    "        elif word_in_text('pogba', tweet['text']):\n",
    "            players.append('pogba')\n",
    "        elif word_in_text('rakitic', tweet['text']):\n",
    "            players.append('rakitic')\n",
    "        elif word_in_text('cr7', tweet['text']):\n",
    "            players.append('cr7')\n",
    "        elif word_in_text('kante', tweet['text']):\n",
    "            players.append('kante')\n",
    "        elif word_in_text('kane', tweet['text']):\n",
    "            players.append('kane')\n",
    "        else:\n",
    "            players.append('None')\n",
    "tweets['player'] = players\n",
    "tweets.head(20)"
   ]
  },
  {
   "cell_type": "code",
   "execution_count": 102,
   "metadata": {
    "scrolled": false
   },
   "outputs": [
    {
     "data": {
      "text/plain": [
       "<matplotlib.axes._subplots.AxesSubplot at 0x2280cfd1e10>"
      ]
     },
     "execution_count": 102,
     "metadata": {},
     "output_type": "execute_result"
    },
    {
     "data": {
      "image/png": "[encoded data removed]",
      "text/plain": [
       "<Figure size 432x288 with 1 Axes>"
      ]
     },
     "metadata": {},
     "output_type": "display_data"
    }
   ],
   "source": [
    "tweets_by_player = tweets['player'].value_counts()\n",
    "\n",
    "fig, ax = plt.subplots()\n",
    "ax.tick_params(axis='x', labelsize=15)\n",
    "ax.tick_params(axis='y', labelsize=10)\n",
    "ax.set_xlabel('Players', fontsize=15)\n",
    "ax.set_ylabel('Number of tweets' , fontsize=15)\n",
    "ax.set_title('Top 5 players', fontsize=15, fontweight='bold')\n",
    "tweets_by_player[:6].plot(ax=ax, kind='bar', color='green')"
   ]
  },
  {
   "cell_type": "code",
   "execution_count": 106,
   "metadata": {},
   "outputs": [
    {
     "name": "stdout",
     "output_type": "stream",
     "text": [
      "None\n",
      "None\n",
      "Brasil\n",
      "None\n",
      "Brasil\n",
      "None\n",
      "Wonderland\n",
      "None\n",
      "Anápolis, Brasil\n",
      "None\n",
      "Oswaldo Cruz , RJ/Brasil\n",
      "None\n",
      "Rio de Janeiro, Brasil\n",
      "None\n",
      "None\n",
      "None\n",
      "Condeixa-a-Nova, Portugal\n",
      "None\n",
      "None\n",
      "None\n",
      "Huechuraba\n",
      "None\n",
      "BRASIL\n",
      "None\n",
      "Brasil\n",
      "None\n",
      "grêmio\n",
      "None\n",
      "Jaguaraçu, Brasil\n",
      "None\n"
     ]
    }
   ],
   "source": [
    "# Desafio: filtrando pelas coordenadas geográficas os tweets em português\n",
    "for tweet in tweets_data:\n",
    "    if tweet['lang'] == 'pt':\n",
    "        print(tweet['user']['location'])\n",
    "        print(tweet['coordinates'])\n",
    "        #for user in tweet['user']:\n",
    "        #    print(user)\n",
    "\n",
    "        #print(tweet['user'])\n",
    "##tweets_data"
   ]
  },
  {
   "cell_type": "code",
   "execution_count": 146,
   "metadata": {},
   "outputs": [
    {
     "name": "stdout",
     "output_type": "stream",
     "text": [
      "None\n",
      "Brasil\n",
      "(-14.235004, -51.92528)\n",
      "Brasil\n",
      "Erro\n",
      "Wonderland\n",
      "Erro\n",
      "Anápolis, Brasil\n",
      "Erro\n",
      "Oswaldo Cruz , RJ/Brasil\n",
      "(-22.8749746, -43.351177)\n",
      "Rio de Janeiro, Brasil\n",
      "(-22.9068467, -43.1728965)\n",
      "None\n",
      "Condeixa-a-Nova, Portugal\n",
      "Erro\n",
      "None\n",
      "Huechuraba\n",
      "(-33.3742128, -70.6367425)\n",
      "BRASIL\n",
      "(-14.235004, -51.92528)\n",
      "Brasil\n",
      "Erro\n",
      "grêmio\n",
      "Erro\n",
      "Jaguaraçu, Brasil\n",
      "Erro\n"
     ]
    }
   ],
   "source": [
    "# Using Python requests and the Google Maps Geocoding API.\n",
    "#\n",
    "# References:\n",
    "#\n",
    "# * http://docs.python-requests.org/en/latest/\n",
    "# * https://developers.google.com/maps/\n",
    "\n",
    "GOOGLE_MAPS_API_URL = 'http://maps.googleapis.com/maps/api/geocode/json?address='\n",
    "for tweet in tweets_data:\n",
    "    if tweet['lang'] == 'pt':\n",
    "        print(tweet['user']['location'])\n",
    "        if tweet['user']['location'] is not None :\n",
    "            #print('oi')\n",
    "#            time.sleep(1)\n",
    "#            params = {                'address': tweet['user']['location'],                'sensor': 'false'            }\n",
    "\n",
    "            # Do the request and get the response data\n",
    "            req = requests.get(GOOGLE_MAPS_API_URL+tweet['user']['location'])\n",
    "            #print(req)\n",
    "            res = req.json()\n",
    "            try:\n",
    "                # Use the first result\n",
    "                result = res['results'][0]\n",
    "\n",
    "                geodata = dict()\n",
    "                geodata['lat'] = result['geometry']['location']['lat']\n",
    "                geodata['lng'] = result['geometry']['location']['lng']\n",
    "                #geodata['address'] = result['formatted_address']\n",
    "\n",
    "                print('({lat}, {lng})'.format(**geodata))\n",
    "                # 221B Baker Street, London, Greater London NW1 6XE, UK. (lat, lng) = (51.5237038, -0.1585531)\n",
    "            except:\n",
    "                print('Erro')"
   ]
  },
  {
   "cell_type": "code",
   "execution_count": null,
   "metadata": {},
   "outputs": [],
   "source": []
  }
 ],
 "metadata": {
  "kernelspec": {
   "display_name": "Python 3",
   "language": "python",
   "name": "python3"
  },
  "language_info": {
   "codemirror_mode": {
    "name": "ipython",
    "version": 3
   },
   "file_extension": ".py",
   "mimetype": "text/x-python",
   "name": "python",
   "nbconvert_exporter": "python",
   "pygments_lexer": "ipython3",
   "version": "3.6.0"
  }
 },
 "nbformat": 4,
 "nbformat_minor": 2
}
